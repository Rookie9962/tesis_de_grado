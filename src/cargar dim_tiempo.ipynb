{
 "cells": [
  {
   "cell_type": "code",
   "execution_count": 82,
   "metadata": {},
   "outputs": [],
   "source": [
    "import connections_config\n",
    "import pandas as pd"
   ]
  },
  {
   "cell_type": "code",
   "execution_count": 99,
   "metadata": {},
   "outputs": [],
   "source": [
    "#Guardar conexion a la base de datos de akademos en la variable \"akademos\"\n",
    "akademos = connections_config.akademos_data_base\n",
    "\n",
    "#Guardar conexion al Mercado de Datos en la variable \"datamart\"\n",
    "datamart =connections_config.datamart_data_base"
   ]
  },
  {
   "cell_type": "code",
   "execution_count": 100,
   "metadata": {},
   "outputs": [],
   "source": [
    "#Consulta para extracción de datos\n",
    "query = \"\"\"SELECT id, fecha_creacion, extract(YEAR from fecha_creacion) AS anno, extract(month from fecha_creacion) AS mes, EXTRACT (DAY FROM fecha_creacion) AS dia FROM tramite_tbd_tramite_estudiante\"\"\"\n",
    "\n",
    "query_almacen = \"\"\"SELECT * FROM dim_tiempo\"\"\""
   ]
  },
  {
   "cell_type": "code",
   "execution_count": 101,
   "metadata": {},
   "outputs": [
    {
     "data": {
      "text/html": [
       "<div>\n",
       "<style scoped>\n",
       "    .dataframe tbody tr th:only-of-type {\n",
       "        vertical-align: middle;\n",
       "    }\n",
       "\n",
       "    .dataframe tbody tr th {\n",
       "        vertical-align: top;\n",
       "    }\n",
       "\n",
       "    .dataframe thead th {\n",
       "        text-align: right;\n",
       "    }\n",
       "</style>\n",
       "<table border=\"1\" class=\"dataframe\">\n",
       "  <thead>\n",
       "    <tr style=\"text-align: right;\">\n",
       "      <th></th>\n",
       "      <th>id_tiempo</th>\n",
       "      <th>fecha</th>\n",
       "    </tr>\n",
       "  </thead>\n",
       "  <tbody>\n",
       "    <tr>\n",
       "      <th>2</th>\n",
       "      <td>20240715</td>\n",
       "      <td>2024-07-15 02:22:13.155492+02:00</td>\n",
       "    </tr>\n",
       "  </tbody>\n",
       "</table>\n",
       "</div>"
      ],
      "text/plain": [
       "   id_tiempo                             fecha\n",
       "2   20240715  2024-07-15 02:22:13.155492+02:00"
      ]
     },
     "execution_count": 101,
     "metadata": {},
     "output_type": "execute_result"
    }
   ],
   "source": [
    "#Cargar las fechas de los movimientos de la BD en un DataFrame\n",
    "df = pd.read_sql(query, akademos)\n",
    "\n",
    "#Annadir campo de id modificado al datamart de la base de datos\n",
    "df['id_modificated'] = df.apply(lambda row: int(row['anno']*10000 + row['mes']*100 + row['dia']), axis = 1)\n",
    "\n",
    "#cargar las fechas de los movimientos del Mercado en un DataFrame\n",
    "df_datamart = pd.read_sql(query_almacen, datamart)\n",
    "\n",
    "#Compara los DataFrame y quedarse solo con los valores nuevos, los que no se repiten (Cuando se ralizan procesos nuevos con fechas no activas en el sistema)\n",
    "df_guardar = df[~df['id_modificated'].isin(df_datamart['id_tiempo'])]\n",
    "\n",
    "if not df_guardar.empty:\n",
    "    # Realizar la operación para definir el id_tiempo y guardar los resultados en un nuevo DataFrame\n",
    "    df_resultado = pd.DataFrame()\n",
    "    df_resultado['id_tiempo'] = df_guardar.apply(lambda row: int(row['anno']*10000 + row['mes']*100 + row['dia']), axis = 1)\n",
    "    df_resultado['fecha'] = df_guardar['fecha_creacion']\n",
    "\n",
    "    # Eliminar duplicados en la columna 'id_tiempo'\n",
    "    df_resultado_unicos = df_resultado.drop_duplicates(subset=['id_tiempo'])\n",
    "else:\n",
    "    # Vaciar el DataFrame\n",
    "    df_resultado_unicos = df_resultado_unicos.iloc[0:0]\n",
    "    \n",
    "\n",
    "df_resultado_unicos\n"
   ]
  },
  {
   "cell_type": "code",
   "execution_count": 102,
   "metadata": {},
   "outputs": [
    {
     "data": {
      "text/plain": [
       "1"
      ]
     },
     "execution_count": 102,
     "metadata": {},
     "output_type": "execute_result"
    }
   ],
   "source": [
    "#Guardar las fechas en el Mercado\n",
    "df_resultado_unicos.to_sql(\"dim_tiempo\", con = datamart, if_exists = \"append\", index = False)"
   ]
  }
 ],
 "metadata": {
  "kernelspec": {
   "display_name": "venv",
   "language": "python",
   "name": "python3"
  },
  "language_info": {
   "codemirror_mode": {
    "name": "ipython",
    "version": 3
   },
   "file_extension": ".py",
   "mimetype": "text/x-python",
   "name": "python",
   "nbconvert_exporter": "python",
   "pygments_lexer": "ipython3",
   "version": "3.11.0"
  }
 },
 "nbformat": 4,
 "nbformat_minor": 2
}
