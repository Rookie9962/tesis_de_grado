{
 "cells": [
  {
   "cell_type": "code",
   "execution_count": 34,
   "metadata": {},
   "outputs": [],
   "source": [
    "import connections_config\n",
    "import pandas as pd\n",
    "import uuid"
   ]
  },
  {
   "cell_type": "code",
   "execution_count": 35,
   "metadata": {},
   "outputs": [],
   "source": [
    "#Guardar conexion a la base de datos de akademos en la variable \"akademos\"\n",
    "akademos = connections_config.akademos_data_base\n",
    "\n",
    "#Guardar conexion al Mercado de Datos en la variable \"datamart\"\n",
    "datamart =connections_config.datamart_data_base"
   ]
  },
  {
   "cell_type": "code",
   "execution_count": 36,
   "metadata": {},
   "outputs": [],
   "source": [
    "#Consulta para extracción de datos\n",
    "query = \"\"\"SELECT tc.id AS id_motivo,te.fecha_creacion AS fecha, extract(YEAR from te.fecha_creacion) AS anno, extract(month from te.fecha_creacion) AS mes, EXTRACT (DAY FROM te.fecha_creacion) AS dia, te.tramite_anterior AS tramite_anterior\n",
    "\t        FROM tramite_tbd_tramite_estudiante AS te\n",
    "\t            INNER JOIN tramite_tbr_tramite_configuracion AS tc\n",
    "    \t\t        ON te.tipo_tramite_estudiante = tc.id\"\"\"\n",
    "\n",
    "query_almacen = \"\"\"SELECT * FROM dim_motivo\"\"\""
   ]
  },
  {
   "cell_type": "code",
   "execution_count": 37,
   "metadata": {},
   "outputs": [
    {
     "data": {
      "text/html": [
       "<div>\n",
       "<style scoped>\n",
       "    .dataframe tbody tr th:only-of-type {\n",
       "        vertical-align: middle;\n",
       "    }\n",
       "\n",
       "    .dataframe tbody tr th {\n",
       "        vertical-align: top;\n",
       "    }\n",
       "\n",
       "    .dataframe thead th {\n",
       "        text-align: right;\n",
       "    }\n",
       "</style>\n",
       "<table border=\"1\" class=\"dataframe\">\n",
       "  <thead>\n",
       "    <tr style=\"text-align: right;\">\n",
       "      <th></th>\n",
       "      <th>id_motivo</th>\n",
       "      <th>fecha</th>\n",
       "      <th>anno</th>\n",
       "      <th>mes</th>\n",
       "      <th>dia</th>\n",
       "      <th>tramite_anterior</th>\n",
       "    </tr>\n",
       "  </thead>\n",
       "  <tbody>\n",
       "    <tr>\n",
       "      <th>0</th>\n",
       "      <td>d0d9d3da-f51c-4baa-91e3-a6679068da5f</td>\n",
       "      <td>2021-10-20 02:22:13.155492+02:00</td>\n",
       "      <td>2021.0</td>\n",
       "      <td>10.0</td>\n",
       "      <td>20.0</td>\n",
       "      <td>None</td>\n",
       "    </tr>\n",
       "    <tr>\n",
       "      <th>1</th>\n",
       "      <td>33ddf217-f253-480f-a7db-b70c643fa663</td>\n",
       "      <td>2024-07-15 02:22:13.155492+02:00</td>\n",
       "      <td>2024.0</td>\n",
       "      <td>7.0</td>\n",
       "      <td>15.0</td>\n",
       "      <td>None</td>\n",
       "    </tr>\n",
       "    <tr>\n",
       "      <th>2</th>\n",
       "      <td>5ac77cc3-3e54-43b3-a989-a509d216226c</td>\n",
       "      <td>2022-11-21 01:22:13.155492+01:00</td>\n",
       "      <td>2022.0</td>\n",
       "      <td>11.0</td>\n",
       "      <td>21.0</td>\n",
       "      <td>None</td>\n",
       "    </tr>\n",
       "  </tbody>\n",
       "</table>\n",
       "</div>"
      ],
      "text/plain": [
       "                              id_motivo                             fecha  \\\n",
       "0  d0d9d3da-f51c-4baa-91e3-a6679068da5f  2021-10-20 02:22:13.155492+02:00   \n",
       "1  33ddf217-f253-480f-a7db-b70c643fa663  2024-07-15 02:22:13.155492+02:00   \n",
       "2  5ac77cc3-3e54-43b3-a989-a509d216226c  2022-11-21 01:22:13.155492+01:00   \n",
       "\n",
       "     anno   mes   dia tramite_anterior  \n",
       "0  2021.0  10.0  20.0             None  \n",
       "1  2024.0   7.0  15.0             None  \n",
       "2  2022.0  11.0  21.0             None  "
      ]
     },
     "execution_count": 37,
     "metadata": {},
     "output_type": "execute_result"
    }
   ],
   "source": [
    "#Cargar los movimienitos de la BD en un DataFrame\n",
    "df = pd.read_sql(query, akademos)\n",
    "\n",
    "#cargar los movimientos del Mercado en un DataFrame\n",
    "df_datamart = pd.read_sql(query_almacen, datamart)\n",
    "df"
   ]
  },
  {
   "cell_type": "code",
   "execution_count": 38,
   "metadata": {},
   "outputs": [
    {
     "data": {
      "text/html": [
       "<div>\n",
       "<style scoped>\n",
       "    .dataframe tbody tr th:only-of-type {\n",
       "        vertical-align: middle;\n",
       "    }\n",
       "\n",
       "    .dataframe tbody tr th {\n",
       "        vertical-align: top;\n",
       "    }\n",
       "\n",
       "    .dataframe thead th {\n",
       "        text-align: right;\n",
       "    }\n",
       "</style>\n",
       "<table border=\"1\" class=\"dataframe\">\n",
       "  <thead>\n",
       "    <tr style=\"text-align: right;\">\n",
       "      <th></th>\n",
       "      <th>id_motivo</th>\n",
       "      <th>fecha</th>\n",
       "      <th>anno</th>\n",
       "      <th>mes</th>\n",
       "      <th>dia</th>\n",
       "      <th>tramite_anterior</th>\n",
       "      <th>id_tiempo</th>\n",
       "    </tr>\n",
       "  </thead>\n",
       "  <tbody>\n",
       "    <tr>\n",
       "      <th>0</th>\n",
       "      <td>d0d9d3da-f51c-4baa-91e3-a6679068da5f</td>\n",
       "      <td>2021-10-20 02:22:13.155492+02:00</td>\n",
       "      <td>2021.0</td>\n",
       "      <td>10.0</td>\n",
       "      <td>20.0</td>\n",
       "      <td>None</td>\n",
       "      <td>20211020</td>\n",
       "    </tr>\n",
       "    <tr>\n",
       "      <th>1</th>\n",
       "      <td>33ddf217-f253-480f-a7db-b70c643fa663</td>\n",
       "      <td>2024-07-15 02:22:13.155492+02:00</td>\n",
       "      <td>2024.0</td>\n",
       "      <td>7.0</td>\n",
       "      <td>15.0</td>\n",
       "      <td>None</td>\n",
       "      <td>20240715</td>\n",
       "    </tr>\n",
       "    <tr>\n",
       "      <th>2</th>\n",
       "      <td>5ac77cc3-3e54-43b3-a989-a509d216226c</td>\n",
       "      <td>2022-11-21 01:22:13.155492+01:00</td>\n",
       "      <td>2022.0</td>\n",
       "      <td>11.0</td>\n",
       "      <td>21.0</td>\n",
       "      <td>None</td>\n",
       "      <td>20221121</td>\n",
       "    </tr>\n",
       "  </tbody>\n",
       "</table>\n",
       "</div>"
      ],
      "text/plain": [
       "                              id_motivo                             fecha  \\\n",
       "0  d0d9d3da-f51c-4baa-91e3-a6679068da5f  2021-10-20 02:22:13.155492+02:00   \n",
       "1  33ddf217-f253-480f-a7db-b70c643fa663  2024-07-15 02:22:13.155492+02:00   \n",
       "2  5ac77cc3-3e54-43b3-a989-a509d216226c  2022-11-21 01:22:13.155492+01:00   \n",
       "\n",
       "     anno   mes   dia tramite_anterior  id_tiempo  \n",
       "0  2021.0  10.0  20.0             None   20211020  \n",
       "1  2024.0   7.0  15.0             None   20240715  \n",
       "2  2022.0  11.0  21.0             None   20221121  "
      ]
     },
     "execution_count": 38,
     "metadata": {},
     "output_type": "execute_result"
    }
   ],
   "source": [
    "df['id_tiempo'] = df.apply(lambda row: int(row['anno']*10000 + row['mes']*100 + row['dia']), axis = 1)\n",
    "df"
   ]
  },
  {
   "cell_type": "code",
   "execution_count": 42,
   "metadata": {},
   "outputs": [
    {
     "data": {
      "text/html": [
       "<div>\n",
       "<style scoped>\n",
       "    .dataframe tbody tr th:only-of-type {\n",
       "        vertical-align: middle;\n",
       "    }\n",
       "\n",
       "    .dataframe tbody tr th {\n",
       "        vertical-align: top;\n",
       "    }\n",
       "\n",
       "    .dataframe thead th {\n",
       "        text-align: right;\n",
       "    }\n",
       "</style>\n",
       "<table border=\"1\" class=\"dataframe\">\n",
       "  <thead>\n",
       "    <tr style=\"text-align: right;\">\n",
       "      <th></th>\n",
       "      <th>id_motivo</th>\n",
       "      <th>fecha</th>\n",
       "      <th>anno</th>\n",
       "      <th>mes</th>\n",
       "      <th>dia</th>\n",
       "      <th>tramite_anterior</th>\n",
       "      <th>id_tiempo</th>\n",
       "    </tr>\n",
       "  </thead>\n",
       "  <tbody>\n",
       "  </tbody>\n",
       "</table>\n",
       "</div>"
      ],
      "text/plain": [
       "Empty DataFrame\n",
       "Columns: [id_motivo, fecha, anno, mes, dia, tramite_anterior, id_tiempo]\n",
       "Index: []"
      ]
     },
     "execution_count": 42,
     "metadata": {},
     "output_type": "execute_result"
    }
   ],
   "source": [
    "#df_bajas = pd.DataFrame()\n",
    "#df_bajas = df[df['id_motivo'] == '']\n",
    "\n",
    "#valores_a_buscar = [uuid.UUID('d0d9d3da-f51c-4baa-91e3-a6679068da5f'), uuid.UUID('7bdc04be-f760-4cae-a4e2-33f34b47c076')]\n",
    "\n",
    "#df_altas = pd.DataFrame()\n",
    "df_altas = df[df['id_motivo'] == 'd0d9d3da-f51c-4baa-91e3-a6679068da5f']\n",
    "\n",
    "#df_otras_bajas = pd.DataFrame()\n",
    "#df_graduados_egresados = pd.DataFrame()\n",
    "df_altas"
   ]
  },
  {
   "cell_type": "code",
   "execution_count": null,
   "metadata": {},
   "outputs": [
    {
     "data": {
      "text/html": [
       "<div>\n",
       "<style scoped>\n",
       "    .dataframe tbody tr th:only-of-type {\n",
       "        vertical-align: middle;\n",
       "    }\n",
       "\n",
       "    .dataframe tbody tr th {\n",
       "        vertical-align: top;\n",
       "    }\n",
       "\n",
       "    .dataframe thead th {\n",
       "        text-align: right;\n",
       "    }\n",
       "</style>\n",
       "<table border=\"1\" class=\"dataframe\">\n",
       "  <thead>\n",
       "    <tr style=\"text-align: right;\">\n",
       "      <th></th>\n",
       "      <th>id_motivo</th>\n",
       "      <th>fecha</th>\n",
       "      <th>anno</th>\n",
       "      <th>mes</th>\n",
       "      <th>dia</th>\n",
       "      <th>tramite_anterior</th>\n",
       "      <th>id_tiempo</th>\n",
       "    </tr>\n",
       "  </thead>\n",
       "  <tbody>\n",
       "  </tbody>\n",
       "</table>\n",
       "</div>"
      ],
      "text/plain": [
       "Empty DataFrame\n",
       "Columns: [id_motivo, fecha, anno, mes, dia, tramite_anterior, id_tiempo]\n",
       "Index: []"
      ]
     },
     "execution_count": 22,
     "metadata": {},
     "output_type": "execute_result"
    }
   ],
   "source": [
    "#Compara los DataFrame y quedarse solo con los valores nuevos, los que no se repiten (En caso de annadir nuevos motivos el sistema)\n",
    "df_resultado = df[~df['id_motivo'].isin(df_datamart['id_motivo'])]\n",
    "df_resultado"
   ]
  },
  {
   "cell_type": "code",
   "execution_count": null,
   "metadata": {},
   "outputs": [
    {
     "data": {
      "text/plain": [
       "0"
      ]
     },
     "execution_count": 23,
     "metadata": {},
     "output_type": "execute_result"
    }
   ],
   "source": [
    "#Guardar motivos en el Mercado\n",
    "df_resultado.to_sql(\"dim_motivo\", con = datamart, if_exists = \"append\", index = False)"
   ]
  }
 ],
 "metadata": {
  "kernelspec": {
   "display_name": "venv",
   "language": "python",
   "name": "python3"
  },
  "language_info": {
   "codemirror_mode": {
    "name": "ipython",
    "version": 3
   },
   "file_extension": ".py",
   "mimetype": "text/x-python",
   "name": "python",
   "nbconvert_exporter": "python",
   "pygments_lexer": "ipython3",
   "version": "3.11.0"
  }
 },
 "nbformat": 4,
 "nbformat_minor": 2
}
