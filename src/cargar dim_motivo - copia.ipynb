{
 "cells": [
  {
   "cell_type": "code",
   "execution_count": 1,
   "metadata": {},
   "outputs": [],
   "source": [
    "import connections_config\n",
    "import pandas as pd"
   ]
  },
  {
   "cell_type": "code",
   "execution_count": 3,
   "metadata": {},
   "outputs": [],
   "source": [
    "#Guardar conexion a la base de datos de akademos en la variable \"akademos\"\n",
    "akademos = connections_config.akademos_data_base\n",
    "\n",
    "#Guardar conexion al Mercado de Datos en la variable \"datamart\"\n",
    "datamart =connections_config.datamart_data_base"
   ]
  },
  {
   "cell_type": "code",
   "execution_count": 4,
   "metadata": {},
   "outputs": [],
   "source": [
    "#Consulta para extracción de datos\n",
    "query = \"\"\"SELECT id AS id_motivo, nombre AS motivo_tramite FROM tramite_tbr_tramite_configuracion\"\"\"\n",
    "\n",
    "query_almacen = \"\"\"SELECT * FROM dim_motivo\"\"\""
   ]
  },
  {
   "cell_type": "code",
   "execution_count": 7,
   "metadata": {},
   "outputs": [
    {
     "data": {
      "text/html": [
       "<div>\n",
       "<style scoped>\n",
       "    .dataframe tbody tr th:only-of-type {\n",
       "        vertical-align: middle;\n",
       "    }\n",
       "\n",
       "    .dataframe tbody tr th {\n",
       "        vertical-align: top;\n",
       "    }\n",
       "\n",
       "    .dataframe thead th {\n",
       "        text-align: right;\n",
       "    }\n",
       "</style>\n",
       "<table border=\"1\" class=\"dataframe\">\n",
       "  <thead>\n",
       "    <tr style=\"text-align: right;\">\n",
       "      <th></th>\n",
       "      <th>id_motivo</th>\n",
       "      <th>motivo_tramite</th>\n",
       "    </tr>\n",
       "  </thead>\n",
       "  <tbody>\n",
       "    <tr>\n",
       "      <th>0</th>\n",
       "      <td>d0d9d3da-f51c-4baa-91e3-a6679068da5f</td>\n",
       "      <td>Registro</td>\n",
       "    </tr>\n",
       "    <tr>\n",
       "      <th>1</th>\n",
       "      <td>7bdc04be-f760-4cae-a4e2-33f34b47c076</td>\n",
       "      <td>Ubicación por registro</td>\n",
       "    </tr>\n",
       "    <tr>\n",
       "      <th>2</th>\n",
       "      <td>e993a8f4-4038-472a-88f4-00b286ca1548</td>\n",
       "      <td>Ubicación por traslado</td>\n",
       "    </tr>\n",
       "    <tr>\n",
       "      <th>3</th>\n",
       "      <td>adf8e754-2bcf-46ce-bd09-b3d71dcbcb8c</td>\n",
       "      <td>Ubicación por cambio de Educación</td>\n",
       "    </tr>\n",
       "    <tr>\n",
       "      <th>4</th>\n",
       "      <td>a493688f-8b3c-4437-b50f-143214d205d5</td>\n",
       "      <td>Ubicación por baja</td>\n",
       "    </tr>\n",
       "    <tr>\n",
       "      <th>5</th>\n",
       "      <td>64c0228b-60f0-4507-972b-def4d12c9624</td>\n",
       "      <td>Matrícula</td>\n",
       "    </tr>\n",
       "    <tr>\n",
       "      <th>6</th>\n",
       "      <td>33ddf217-f253-480f-a7db-b70c643fa663</td>\n",
       "      <td>Traslado</td>\n",
       "    </tr>\n",
       "    <tr>\n",
       "      <th>7</th>\n",
       "      <td>95da1316-e31a-4dcc-9b9f-42c4de270ca7</td>\n",
       "      <td>Cambio de Educación</td>\n",
       "    </tr>\n",
       "    <tr>\n",
       "      <th>8</th>\n",
       "      <td>5ac77cc3-3e54-43b3-a989-a509d216226c</td>\n",
       "      <td>Baja</td>\n",
       "    </tr>\n",
       "    <tr>\n",
       "      <th>9</th>\n",
       "      <td>560caf97-2d1b-459b-af64-409dde17abe7</td>\n",
       "      <td>Cambio de grupo</td>\n",
       "    </tr>\n",
       "    <tr>\n",
       "      <th>10</th>\n",
       "      <td>7fbd3773-c598-4d6b-90fd-222eeac81970</td>\n",
       "      <td>Cambio de periodo</td>\n",
       "    </tr>\n",
       "  </tbody>\n",
       "</table>\n",
       "</div>"
      ],
      "text/plain": [
       "                               id_motivo                     motivo_tramite\n",
       "0   d0d9d3da-f51c-4baa-91e3-a6679068da5f                           Registro\n",
       "1   7bdc04be-f760-4cae-a4e2-33f34b47c076             Ubicación por registro\n",
       "2   e993a8f4-4038-472a-88f4-00b286ca1548             Ubicación por traslado\n",
       "3   adf8e754-2bcf-46ce-bd09-b3d71dcbcb8c  Ubicación por cambio de Educación\n",
       "4   a493688f-8b3c-4437-b50f-143214d205d5                 Ubicación por baja\n",
       "5   64c0228b-60f0-4507-972b-def4d12c9624                          Matrícula\n",
       "6   33ddf217-f253-480f-a7db-b70c643fa663                           Traslado\n",
       "7   95da1316-e31a-4dcc-9b9f-42c4de270ca7                Cambio de Educación\n",
       "8   5ac77cc3-3e54-43b3-a989-a509d216226c                               Baja\n",
       "9   560caf97-2d1b-459b-af64-409dde17abe7                    Cambio de grupo\n",
       "10  7fbd3773-c598-4d6b-90fd-222eeac81970                  Cambio de periodo"
      ]
     },
     "execution_count": 7,
     "metadata": {},
     "output_type": "execute_result"
    }
   ],
   "source": [
    "#Cargar los motivos de la BD en un DataFrame\n",
    "df = pd.read_sql(query, akademos)\n",
    "\n",
    "#cargar los motivos del Mercado en un DataFrame\n",
    "df_datamart = pd.read_sql(query_almacen, datamart)\n",
    "df_datamart #Imprimir tabla dim_motivo del Mercado"
   ]
  },
  {
   "cell_type": "code",
   "execution_count": 19,
   "metadata": {},
   "outputs": [
    {
     "data": {
      "text/html": [
       "<div>\n",
       "<style scoped>\n",
       "    .dataframe tbody tr th:only-of-type {\n",
       "        vertical-align: middle;\n",
       "    }\n",
       "\n",
       "    .dataframe tbody tr th {\n",
       "        vertical-align: top;\n",
       "    }\n",
       "\n",
       "    .dataframe thead th {\n",
       "        text-align: right;\n",
       "    }\n",
       "</style>\n",
       "<table border=\"1\" class=\"dataframe\">\n",
       "  <thead>\n",
       "    <tr style=\"text-align: right;\">\n",
       "      <th></th>\n",
       "      <th>id_motivo</th>\n",
       "      <th>motivo_tramite</th>\n",
       "    </tr>\n",
       "  </thead>\n",
       "  <tbody>\n",
       "  </tbody>\n",
       "</table>\n",
       "</div>"
      ],
      "text/plain": [
       "Empty DataFrame\n",
       "Columns: [id_motivo, motivo_tramite]\n",
       "Index: []"
      ]
     },
     "execution_count": 19,
     "metadata": {},
     "output_type": "execute_result"
    }
   ],
   "source": [
    "#Compara los DataFrame y quedarse solo con los valores nuevos, los que no se repiten (En caso de annadir nuevos motivos el sistema)\n",
    "df_resultado = df[~df['id_motivo'].isin(df_datamart['id_motivo'])]\n",
    "df_resultado"
   ]
  },
  {
   "cell_type": "code",
   "execution_count": 20,
   "metadata": {},
   "outputs": [
    {
     "data": {
      "text/plain": [
       "0"
      ]
     },
     "execution_count": 20,
     "metadata": {},
     "output_type": "execute_result"
    }
   ],
   "source": [
    "#Guardar motivos en el Mercado\n",
    "df_resultado.to_sql(\"dim_motivo\", con = datamart, if_exists = \"append\", index = False)"
   ]
  }
 ],
 "metadata": {
  "kernelspec": {
   "display_name": "venv",
   "language": "python",
   "name": "python3"
  },
  "language_info": {
   "codemirror_mode": {
    "name": "ipython",
    "version": 3
   },
   "file_extension": ".py",
   "mimetype": "text/x-python",
   "name": "python",
   "nbconvert_exporter": "python",
   "pygments_lexer": "ipython3",
   "version": "3.11.0"
  }
 },
 "nbformat": 4,
 "nbformat_minor": 2
}
